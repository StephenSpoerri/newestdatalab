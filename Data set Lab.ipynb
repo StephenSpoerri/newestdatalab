{
 "cells": [
  {
   "cell_type": "code",
   "execution_count": 4,
   "id": "16399fd4",
   "metadata": {},
   "outputs": [],
   "source": [
    "import pandas as pd\n",
    "import numpy as np\n",
    "import matplotlib"
   ]
  },
  {
   "cell_type": "code",
   "execution_count": 2,
   "id": "b3f78d9b",
   "metadata": {},
   "outputs": [],
   "source": [
    "file = 'ffpub21.csv'"
   ]
  },
  {
   "cell_type": "code",
   "execution_count": 5,
   "id": "f626051e",
   "metadata": {},
   "outputs": [
    {
     "name": "stdout",
     "output_type": "stream",
     "text": [
      "   FPOVCUT  FPERSONS  FHEADIDX  FSPOUIDX  FOWNU6  FRELU6  FKIND  FKINDEX  \\\n",
      "0    20244         3         1         2       0       0      1        1   \n",
      "1    20244         3         1         2       0       0      1        1   \n",
      "2    12413         1         1         0       0       0      2        3   \n",
      "3    17839         2         1         0       0       0      2        3   \n",
      "4    13465         1         3         0       0       0      3        4   \n",
      "\n",
      "   FTYPE  FRELU18  ...  F_MV_SL  I_FHIPVAL  I_FHIPVAL2  I_FMEDVAL  I_FMOOP  \\\n",
      "0      1        0  ...        0          1           1          0        1   \n",
      "1      1        0  ...        0          0           0          0        0   \n",
      "2      2        0  ...        0          1           1          0        1   \n",
      "3      1        1  ...      105          0           0          0        0   \n",
      "4      5        0  ...        0          0           0          0        0   \n",
      "\n",
      "   I_FMOOP2  I_FOTCVAL  POVLL  FILEDATE  YYYYMM  \n",
      "0         1          0      5     81921  202103  \n",
      "1         0          0     14     81921  202103  \n",
      "2         1          1      5     81921  202103  \n",
      "3         0          0      1     81921  202103  \n",
      "4         0          0     12     81921  202103  \n",
      "\n",
      "[5 rows x 85 columns]\n"
     ]
    }
   ],
   "source": [
    "df = pd.read_csv(file)\n",
    "print(df.head())"
   ]
  },
  {
   "cell_type": "code",
   "execution_count": null,
   "id": "6cec353e",
   "metadata": {},
   "outputs": [],
   "source": [
    "df = pd.read_excel(file)\n",
    "print(df.head())"
   ]
  },
  {
   "cell_type": "code",
   "execution_count": 6,
   "id": "e3137d93",
   "metadata": {},
   "outputs": [
    {
     "name": "stdout",
     "output_type": "stream",
     "text": [
      "['FPOVCUT', 'FPERSONS', 'FHEADIDX', 'FSPOUIDX', 'FOWNU6', 'FRELU6', 'FKIND', 'FKINDEX', 'FTYPE', 'FRELU18', 'FOWNU18', 'FLASTIDX', 'FMLASIDX', 'FH_SEQ', 'FAMLIS', 'FANNVAL', 'FCSPVAL', 'FDISVAL', 'FDIVVAL', 'FDSTVAL', 'FEARNVAL', 'FEDVAL', 'FFINVAL', 'FFPOS', 'FFRVAL', 'FHIP_VAL', 'FHIP_VAL2', 'FINC_ANN', 'FINC_CSP', 'FINC_DIS', 'FINC_DIV', 'FINC_DST', 'FINC_ED', 'FINC_FIN', 'FINC_FR', 'FINC_INT', 'FINC_OI', 'FINC_PAW', 'FINC_PEN', 'FINC_RNT', 'FINC_SE', 'FINC_SS', 'FINC_SSI', 'FINC_SUR', 'FINC_UC', 'FINC_VET', 'FINC_WC', 'FINC_WS', 'FINTVAL', 'FMED_VAL', 'FMOOP', 'FMOOP2', 'FOIVAL', 'FOTC_VAL', 'FOTHVAL', 'FPAWVAL', 'FPCTCUT', 'FPENVAL', 'FRECORD', 'FRNTVAL', 'FRSPOV', 'FRSPPCT', 'FSEVAL', 'FSPANISH', 'FSSIVAL', 'FSSVAL', 'FSUP_WGT', 'FSURVAL', 'FTOTVAL', 'FTOT_R', 'FUCVAL', 'FVETVAL', 'FWCVAL', 'FWSVAL', 'F_MV_FS', 'F_MV_SL', 'I_FHIPVAL', 'I_FHIPVAL2', 'I_FMEDVAL', 'I_FMOOP', 'I_FMOOP2', 'I_FOTCVAL', 'POVLL', 'FILEDATE', 'YYYYMM']\n",
      "73151\n",
      "85\n"
     ]
    }
   ],
   "source": [
    "print(list(df))\n",
    "print(len(df))\n",
    "print(len(list(df)))"
   ]
  },
  {
   "cell_type": "code",
   "execution_count": 23,
   "id": "8bd7e3a4",
   "metadata": {},
   "outputs": [
    {
     "name": "stdout",
     "output_type": "stream",
     "text": [
      "   Family type   freq\n",
      "0            1  42768\n",
      "1            2  20082\n",
      "3            3   2371\n",
      "4            4    258\n",
      "2            5   7672\n"
     ]
    }
   ],
   "source": [
    "col = 'FTYPE'\n",
    "col_name = 'Family type'\n",
    "freq = df[col].value_counts().rename_axis(col_name).reset_index(name='freq')\n",
    "freq = freq.sort_values(by = col_name)\n",
    "print(freq)"
   ]
  },
  {
   "cell_type": "code",
   "execution_count": 24,
   "id": "17debef8",
   "metadata": {},
   "outputs": [
    {
     "name": "stdout",
     "output_type": "stream",
     "text": [
      "             Family type   freq\n",
      "0         Primary family  42768\n",
      "1  Nonfamily householder  20082\n",
      "3      Related subfamily   2371\n",
      "4    Unrelated subfamily    258\n",
      "2   Secondary individual   7672\n"
     ]
    }
   ],
   "source": [
    "codebook = [['1' , 'Primary family'],\n",
    "            ['2' , 'Nonfamily householder'],\n",
    "            ['3' , 'Related subfamily'],\n",
    "            ['4' , 'Unrelated subfamily'],\n",
    "            ['5' , 'Secondary individual']]\n",
    "            \n",
    "for lbl in codebook:\n",
    "            freq[col_name] = freq[col_name].replace(int(lbl[0]), lbl[1])\n",
    "            \n",
    "print (freq)"
   ]
  },
  {
   "cell_type": "code",
   "execution_count": 26,
   "id": "47032323",
   "metadata": {},
   "outputs": [
    {
     "data": {
      "image/png": "[encoded data removed]",
      "text/plain": [
       "<Figure size 432x288 with 1 Axes>"
      ]
     },
     "metadata": {
      "needs_background": "light"
     },
     "output_type": "display_data"
    }
   ],
   "source": [
    "ax = freq.plot.barh(x=col_name, y='freq')"
   ]
  },
  {
   "cell_type": "code",
   "execution_count": 25,
   "id": "8892bce1",
   "metadata": {},
   "outputs": [
    {
     "name": "stdout",
     "output_type": "stream",
     "text": [
      "1.7694494948804527\n",
      "1.0\n",
      "1.233674059318623\n"
     ]
    }
   ],
   "source": [
    "quant_col = 'FTYPE'\n",
    "\n",
    "mean = df[quant_col].mean()\n",
    "print(mean)\n",
    "\n",
    "median = df [quant_col].median()\n",
    "print(median)\n",
    "\n",
    "stan_dev = df[quant_col].std()\n",
    "print(stan_dev)"
   ]
  },
  {
   "cell_type": "code",
   "execution_count": null,
   "id": "72348a37",
   "metadata": {},
   "outputs": [],
   "source": []
  }
 ],
 "metadata": {
  "kernelspec": {
   "display_name": "Python 3 (ipykernel)",
   "language": "python",
   "name": "python3"
  },
  "language_info": {
   "codemirror_mode": {
    "name": "ipython",
    "version": 3
   },
   "file_extension": ".py",
   "mimetype": "text/x-python",
   "name": "python",
   "nbconvert_exporter": "python",
   "pygments_lexer": "ipython3",
   "version": "3.9.12"
  }
 },
 "nbformat": 4,
 "nbformat_minor": 5
}
